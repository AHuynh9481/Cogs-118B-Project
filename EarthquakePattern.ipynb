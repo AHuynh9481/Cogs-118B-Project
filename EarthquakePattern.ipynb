{
 "cells": [
  {
   "cell_type": "markdown",
   "metadata": {},
   "source": [
    "# COGS118B 2022FA\n",
    "##### Group members:\n",
    "#### Alexander Huynh, Andrina / Xiaoxuan Zhang, Nicolas Schaefer, Victorionna Tran"
   ]
  },
  {
   "cell_type": "markdown",
   "metadata": {},
   "source": [
    "# Background"
   ]
  },
  {
   "cell_type": "markdown",
   "metadata": {},
   "source": []
  },
  {
   "cell_type": "markdown",
   "metadata": {},
   "source": [
    "# Research Question"
   ]
  },
  {
   "cell_type": "markdown",
   "metadata": {},
   "source": [
    "#### Can we accurately predict the magnitude and depth of an earthquake happening, given the time and location (latitude and longitude) it will occur?\n",
    "We would like to know the relationship between the time and location of earthquakes\n",
    "This work importance pertains to the livelihood of people\n"
   ]
  },
  {
   "cell_type": "markdown",
   "metadata": {},
   "source": [
    "# Data"
   ]
  },
  {
   "cell_type": "code",
   "execution_count": 1,
   "metadata": {},
   "outputs": [],
   "source": [
    "import pandas as pd\n",
    "import numpy as np\n",
    "import datetime\n",
    "import time\n",
    "import matplotlib.pyplot as plt\n",
    "import geopandas as gpd"
   ]
  },
  {
   "cell_type": "code",
   "execution_count": 2,
   "metadata": {},
   "outputs": [
    {
     "name": "stderr",
     "output_type": "stream",
     "text": [
      "2022-12-06 06:10:31.294884: W tensorflow/stream_executor/platform/default/dso_loader.cc:64] Could not load dynamic library 'libcudart.so.11.0'; dlerror: libcudart.so.11.0: cannot open shared object file: No such file or directory; LD_LIBRARY_PATH: /usr/local/nvidia/lib:/usr/local/nvidia/lib64\n",
      "2022-12-06 06:10:31.294922: I tensorflow/stream_executor/cuda/cudart_stub.cc:29] Ignore above cudart dlerror if you do not have a GPU set up on your machine.\n",
      "/opt/conda/lib/python3.9/site-packages/scipy/__init__.py:146: UserWarning: A NumPy version >=1.16.5 and <1.23.0 is required for this version of SciPy (detected version 1.23.5\n",
      "  warnings.warn(f\"A NumPy version >={np_minversion} and <{np_maxversion}\"\n"
     ]
    }
   ],
   "source": [
    "import tensorflow as tf\n",
    "import keras"
   ]
  },
  {
   "cell_type": "code",
   "execution_count": 3,
   "metadata": {},
   "outputs": [],
   "source": [
    "from sklearn.model_selection import train_test_split, GridSearchCV, RandomizedSearchCV\n",
    "from keras.models import Sequential\n",
    "from keras.layers import Dense, Dropout, Activation, Flatten\n",
    "from keras.layers import Conv2D, MaxPool2D\n",
    "from keras.wrappers.scikit_learn import KerasClassifier"
   ]
  },
  {
   "cell_type": "markdown",
   "metadata": {},
   "source": [
    "### Importing data"
   ]
  },
  {
   "cell_type": "code",
   "execution_count": 4,
   "metadata": {},
   "outputs": [],
   "source": [
    "df = pd.read_csv('clean25kDataset.csv')"
   ]
  },
  {
   "cell_type": "code",
   "execution_count": 5,
   "metadata": {},
   "outputs": [
    {
     "data": {
      "text/html": [
       "<div>\n",
       "<style scoped>\n",
       "    .dataframe tbody tr th:only-of-type {\n",
       "        vertical-align: middle;\n",
       "    }\n",
       "\n",
       "    .dataframe tbody tr th {\n",
       "        vertical-align: top;\n",
       "    }\n",
       "\n",
       "    .dataframe thead th {\n",
       "        text-align: right;\n",
       "    }\n",
       "</style>\n",
       "<table border=\"1\" class=\"dataframe\">\n",
       "  <thead>\n",
       "    <tr style=\"text-align: right;\">\n",
       "      <th></th>\n",
       "      <th>Latitude</th>\n",
       "      <th>Longitude</th>\n",
       "      <th>Depth</th>\n",
       "      <th>Magnitude</th>\n",
       "      <th>Region</th>\n",
       "      <th>Timestamp</th>\n",
       "    </tr>\n",
       "  </thead>\n",
       "  <tbody>\n",
       "    <tr>\n",
       "      <th>0</th>\n",
       "      <td>60.5758</td>\n",
       "      <td>-147.5620</td>\n",
       "      <td>15.1</td>\n",
       "      <td>2.6</td>\n",
       "      <td>57 km SW of Tatitlek, Alaska</td>\n",
       "      <td>1.670283e+09</td>\n",
       "    </tr>\n",
       "    <tr>\n",
       "      <th>1</th>\n",
       "      <td>37.3565</td>\n",
       "      <td>-121.7167</td>\n",
       "      <td>8.2</td>\n",
       "      <td>1.5</td>\n",
       "      <td>10km E of Alum Rock, CA</td>\n",
       "      <td>1.670283e+09</td>\n",
       "    </tr>\n",
       "    <tr>\n",
       "      <th>2</th>\n",
       "      <td>60.1315</td>\n",
       "      <td>-153.1349</td>\n",
       "      <td>125.6</td>\n",
       "      <td>1.9</td>\n",
       "      <td>66 km E of Port Alsworth, Alaska</td>\n",
       "      <td>1.670282e+09</td>\n",
       "    </tr>\n",
       "    <tr>\n",
       "      <th>3</th>\n",
       "      <td>37.3247</td>\n",
       "      <td>-121.6887</td>\n",
       "      <td>6.9</td>\n",
       "      <td>3.7</td>\n",
       "      <td>13km ESE of Alum Rock, CA</td>\n",
       "      <td>1.670282e+09</td>\n",
       "    </tr>\n",
       "    <tr>\n",
       "      <th>4</th>\n",
       "      <td>39.4327</td>\n",
       "      <td>-92.2425</td>\n",
       "      <td>4.7</td>\n",
       "      <td>2.5</td>\n",
       "      <td>5 km SSW of Madison, Missouri</td>\n",
       "      <td>1.670282e+09</td>\n",
       "    </tr>\n",
       "    <tr>\n",
       "      <th>...</th>\n",
       "      <td>...</td>\n",
       "      <td>...</td>\n",
       "      <td>...</td>\n",
       "      <td>...</td>\n",
       "      <td>...</td>\n",
       "      <td>...</td>\n",
       "    </tr>\n",
       "    <tr>\n",
       "      <th>24995</th>\n",
       "      <td>58.2855</td>\n",
       "      <td>-154.9823</td>\n",
       "      <td>3.8</td>\n",
       "      <td>0.5</td>\n",
       "      <td>85 km NNW of Karluk, Alaska</td>\n",
       "      <td>1.664120e+09</td>\n",
       "    </tr>\n",
       "    <tr>\n",
       "      <th>24996</th>\n",
       "      <td>51.3816</td>\n",
       "      <td>142.7739</td>\n",
       "      <td>10.0</td>\n",
       "      <td>4.8</td>\n",
       "      <td>51 km NE of Mgachi, Russia</td>\n",
       "      <td>1.664120e+09</td>\n",
       "    </tr>\n",
       "    <tr>\n",
       "      <th>24997</th>\n",
       "      <td>27.7017</td>\n",
       "      <td>56.4543</td>\n",
       "      <td>10.0</td>\n",
       "      <td>4.9</td>\n",
       "      <td>59 km NNE of Bandar Abbas, Iran</td>\n",
       "      <td>1.664120e+09</td>\n",
       "    </tr>\n",
       "    <tr>\n",
       "      <th>24998</th>\n",
       "      <td>35.3747</td>\n",
       "      <td>-118.1223</td>\n",
       "      <td>4.5</td>\n",
       "      <td>1.1</td>\n",
       "      <td>30km NNW of California City, CA</td>\n",
       "      <td>1.664119e+09</td>\n",
       "    </tr>\n",
       "    <tr>\n",
       "      <th>24999</th>\n",
       "      <td>53.7207</td>\n",
       "      <td>-162.6143</td>\n",
       "      <td>25.6</td>\n",
       "      <td>1.9</td>\n",
       "      <td>136 km SSE of False Pass, Alaska</td>\n",
       "      <td>1.664119e+09</td>\n",
       "    </tr>\n",
       "  </tbody>\n",
       "</table>\n",
       "<p>25000 rows × 6 columns</p>\n",
       "</div>"
      ],
      "text/plain": [
       "       Latitude  Longitude  Depth  Magnitude  \\\n",
       "0       60.5758  -147.5620   15.1        2.6   \n",
       "1       37.3565  -121.7167    8.2        1.5   \n",
       "2       60.1315  -153.1349  125.6        1.9   \n",
       "3       37.3247  -121.6887    6.9        3.7   \n",
       "4       39.4327   -92.2425    4.7        2.5   \n",
       "...         ...        ...    ...        ...   \n",
       "24995   58.2855  -154.9823    3.8        0.5   \n",
       "24996   51.3816   142.7739   10.0        4.8   \n",
       "24997   27.7017    56.4543   10.0        4.9   \n",
       "24998   35.3747  -118.1223    4.5        1.1   \n",
       "24999   53.7207  -162.6143   25.6        1.9   \n",
       "\n",
       "                                 Region     Timestamp  \n",
       "0          57 km SW of Tatitlek, Alaska  1.670283e+09  \n",
       "1               10km E of Alum Rock, CA  1.670283e+09  \n",
       "2      66 km E of Port Alsworth, Alaska  1.670282e+09  \n",
       "3             13km ESE of Alum Rock, CA  1.670282e+09  \n",
       "4         5 km SSW of Madison, Missouri  1.670282e+09  \n",
       "...                                 ...           ...  \n",
       "24995       85 km NNW of Karluk, Alaska  1.664120e+09  \n",
       "24996        51 km NE of Mgachi, Russia  1.664120e+09  \n",
       "24997   59 km NNE of Bandar Abbas, Iran  1.664120e+09  \n",
       "24998   30km NNW of California City, CA  1.664119e+09  \n",
       "24999  136 km SSE of False Pass, Alaska  1.664119e+09  \n",
       "\n",
       "[25000 rows x 6 columns]"
      ]
     },
     "execution_count": 5,
     "metadata": {},
     "output_type": "execute_result"
    }
   ],
   "source": [
    "timestamp_list = []\n",
    "for d, t in zip(df['Date'], df['Time']):\n",
    "    timestamp = datetime.datetime.strptime(d+' '+t, '%Y-%m-%d %H:%M:%S')\n",
    "    timestamp_list.append(time.mktime(timestamp.timetuple()))\n",
    "    \n",
    "timeStamp = pd.Series(timestamp_list)\n",
    "df['Timestamp'] = timeStamp.values\n",
    "clean_df = df.drop(['Date', 'Time'], axis=1)\n",
    "\n",
    "clean_df = clean_df.rename(columns={'Lat': 'Latitude', 'Lon': 'Longitude', 'Mag': 'Magnitude'})\n",
    "clean_df"
   ]
  },
  {
   "cell_type": "code",
   "execution_count": 6,
   "metadata": {},
   "outputs": [
    {
     "data": {
      "image/png": "[encoded data removed]",
      "text/plain": [
       "<Figure size 1152x864 with 2 Axes>"
      ]
     },
     "metadata": {
      "needs_background": "light"
     },
     "output_type": "display_data"
    }
   ],
   "source": [
    "countries = gpd.read_file(gpd.datasets.get_path(\"naturalearth_lowres\"))\n",
    "\n",
    "# initialize an axis\n",
    "fig, ax = plt.subplots(figsize=(16,12))\n",
    "\n",
    "# plot map on axis\n",
    "countries = gpd.read_file(gpd.datasets.get_path(\"naturalearth_lowres\"))\n",
    "countries.plot(color=\"lightgrey\",ax=ax)\n",
    "\n",
    "# plot points\n",
    "clean_df.plot(x=\"Longitude\", y=\"Latitude\", marker ='.', kind=\"scatter\", c=\"Magnitude\", colormap=\"YlOrRd\", \n",
    "        title=\"Earthquake Locations\", ax=ax)\n",
    "\n",
    "# add grid\n",
    "ax.grid(visible=True, alpha=0.5)\n",
    "\n",
    "plt.show()"
   ]
  },
  {
   "cell_type": "code",
   "execution_count": 7,
   "metadata": {},
   "outputs": [],
   "source": [
    "X = clean_df[['Timestamp', 'Latitude', 'Longitude']]\n",
    "y = clean_df[['Magnitude', 'Depth']]"
   ]
  },
  {
   "cell_type": "code",
   "execution_count": 8,
   "metadata": {},
   "outputs": [
    {
     "name": "stdout",
     "output_type": "stream",
     "text": [
      "(20000, 3) (5000, 3) (20000, 2) (5000, 2)\n"
     ]
    }
   ],
   "source": [
    "X_train, X_test, y_train, y_test = train_test_split(X, y, test_size=0.2, random_state=0)\n",
    "print(X_train.shape, X_test.shape, y_train.shape, y_test.shape) "
   ]
  },
  {
   "cell_type": "code",
   "execution_count": null,
   "metadata": {},
   "outputs": [],
   "source": []
  },
  {
   "cell_type": "code",
   "execution_count": null,
   "metadata": {},
   "outputs": [],
   "source": []
  },
  {
   "cell_type": "markdown",
   "metadata": {},
   "source": [
    "# Implementing Neural Network"
   ]
  },
  {
   "cell_type": "markdown",
   "metadata": {},
   "source": []
  },
  {
   "cell_type": "markdown",
   "metadata": {},
   "source": [
    "#### Model-1\n",
    "### Baseline Neural Network"
   ]
  },
  {
   "cell_type": "code",
   "execution_count": 9,
   "metadata": {},
   "outputs": [],
   "source": [
    "def NN(neurons, drop, activation, optimizer, loss):\n",
    "    model = Sequential()\n",
    "    model.add(Dense(neurons, activation=activation, input_shape=(3,)))\n",
    "    model.add(Dense(neurons, activation=activation))\n",
    "    model.add(Dropout(rate=drop))\n",
    "    model.add(Dense(2, activation='softmax'))\n",
    "    \n",
    "    model.compile(optimizer=optimizer, loss=loss, metrics=['accuracy'])\n",
    "    \n",
    "    return model"
   ]
  },
  {
   "cell_type": "markdown",
   "metadata": {},
   "source": []
  },
  {
   "cell_type": "code",
   "execution_count": null,
   "metadata": {},
   "outputs": [],
   "source": []
  },
  {
   "cell_type": "code",
   "execution_count": null,
   "metadata": {},
   "outputs": [],
   "source": []
  },
  {
   "cell_type": "code",
   "execution_count": null,
   "metadata": {},
   "outputs": [],
   "source": []
  },
  {
   "cell_type": "markdown",
   "metadata": {},
   "source": [
    "# Results\n",
    "\n",
    "We will be employing a Kaggle data collection as a training set, which will include road signs from Germany with about 180 class labels.The training set will have around 100K photos, whereas the testing set will contain approximately 50K images.Three different sizes of Convolutional Neural Networks (CNNs) with and without Residual Connections will be tested for efficacy and performance. We trained a Convolutional Neural Network called LeNet. LeNet was used to classify the traffic signs that were included in the dataset. With the base model done, we ran hyperparameters tuning on four specified hyperparameters and executed a random hyperparameter search on the model. \n",
    "\n"
   ]
  },
  {
   "cell_type": "markdown",
   "metadata": {},
   "source": [
    "For our base model we decided on the LeNet neural network. We set the batch size to be 128 and the epoch to 40. The larger batch allowed us to increase the speed of the runtime of the process. By deploying only the 5x5 convolution filters we were able to get a 97.45% on the validation accuracy and a 95.55% on the training accuracy. With this newfound information we decided to tune these four specific hyperparameters. The batch size, dropout, filter size, and the epoch. Lastly, as mentioned above, we went with a five fold cross validation. "
   ]
  },
  {
   "cell_type": "code",
   "execution_count": 10,
   "metadata": {
    "scrolled": false
   },
   "outputs": [
    {
     "name": "stdout",
     "output_type": "stream",
     "text": [
      "Epoch 1/40\n"
     ]
    },
    {
     "name": "stderr",
     "output_type": "stream",
     "text": [
      "2022-12-06 06:10:35.603156: W tensorflow/stream_executor/platform/default/dso_loader.cc:64] Could not load dynamic library 'libcudart.so.11.0'; dlerror: libcudart.so.11.0: cannot open shared object file: No such file or directory; LD_LIBRARY_PATH: /usr/local/nvidia/lib:/usr/local/nvidia/lib64\n",
      "2022-12-06 06:10:35.603345: W tensorflow/stream_executor/platform/default/dso_loader.cc:64] Could not load dynamic library 'libcublas.so.11'; dlerror: libcublas.so.11: cannot open shared object file: No such file or directory; LD_LIBRARY_PATH: /usr/local/nvidia/lib:/usr/local/nvidia/lib64\n",
      "2022-12-06 06:10:35.603481: W tensorflow/stream_executor/platform/default/dso_loader.cc:64] Could not load dynamic library 'libcublasLt.so.11'; dlerror: libcublasLt.so.11: cannot open shared object file: No such file or directory; LD_LIBRARY_PATH: /usr/local/nvidia/lib:/usr/local/nvidia/lib64\n",
      "2022-12-06 06:10:35.603616: W tensorflow/stream_executor/platform/default/dso_loader.cc:64] Could not load dynamic library 'libcufft.so.10'; dlerror: libcufft.so.10: cannot open shared object file: No such file or directory; LD_LIBRARY_PATH: /usr/local/nvidia/lib:/usr/local/nvidia/lib64\n",
      "2022-12-06 06:10:35.603746: W tensorflow/stream_executor/platform/default/dso_loader.cc:64] Could not load dynamic library 'libcurand.so.10'; dlerror: libcurand.so.10: cannot open shared object file: No such file or directory; LD_LIBRARY_PATH: /usr/local/nvidia/lib:/usr/local/nvidia/lib64\n",
      "2022-12-06 06:10:35.603875: W tensorflow/stream_executor/platform/default/dso_loader.cc:64] Could not load dynamic library 'libcusolver.so.11'; dlerror: libcusolver.so.11: cannot open shared object file: No such file or directory; LD_LIBRARY_PATH: /usr/local/nvidia/lib:/usr/local/nvidia/lib64\n",
      "2022-12-06 06:10:35.604005: W tensorflow/stream_executor/platform/default/dso_loader.cc:64] Could not load dynamic library 'libcusparse.so.11'; dlerror: libcusparse.so.11: cannot open shared object file: No such file or directory; LD_LIBRARY_PATH: /usr/local/nvidia/lib:/usr/local/nvidia/lib64\n",
      "2022-12-06 06:10:35.604149: W tensorflow/stream_executor/platform/default/dso_loader.cc:64] Could not load dynamic library 'libcudnn.so.8'; dlerror: libcudnn.so.8: cannot open shared object file: No such file or directory; LD_LIBRARY_PATH: /usr/local/nvidia/lib:/usr/local/nvidia/lib64\n",
      "2022-12-06 06:10:35.604189: W tensorflow/core/common_runtime/gpu/gpu_device.cc:1850] Cannot dlopen some GPU libraries. Please make sure the missing libraries mentioned above are installed properly if you would like to use GPU. Follow the guide at https://www.tensorflow.org/install/gpu for how to download and setup the required libraries for your platform.\n",
      "Skipping registering GPU devices...\n",
      "2022-12-06 06:10:35.604917: I tensorflow/core/platform/cpu_feature_guard.cc:151] This TensorFlow binary is optimized with oneAPI Deep Neural Network Library (oneDNN) to use the following CPU instructions in performance-critical operations:  AVX2 AVX512F FMA\n",
      "To enable them in other operations, rebuild TensorFlow with the appropriate compiler flags.\n"
     ]
    },
    {
     "name": "stdout",
     "output_type": "stream",
     "text": [
      "313/313 - 1s - loss: 0.5580 - accuracy: 0.4001 - val_loss: 0.5232 - val_accuracy: 0.0830 - 1s/epoch - 4ms/step\n",
      "Epoch 2/40\n",
      "313/313 - 1s - loss: 0.5614 - accuracy: 0.3872 - val_loss: 0.5232 - val_accuracy: 0.0830 - 837ms/epoch - 3ms/step\n",
      "Epoch 3/40\n",
      "313/313 - 1s - loss: 0.5592 - accuracy: 0.3968 - val_loss: 0.5232 - val_accuracy: 0.0830 - 783ms/epoch - 3ms/step\n",
      "Epoch 4/40\n",
      "313/313 - 1s - loss: 0.5624 - accuracy: 0.3945 - val_loss: 0.5232 - val_accuracy: 0.0830 - 866ms/epoch - 3ms/step\n",
      "Epoch 5/40\n",
      "313/313 - 1s - loss: 0.5610 - accuracy: 0.3956 - val_loss: 0.5232 - val_accuracy: 0.0830 - 856ms/epoch - 3ms/step\n",
      "Epoch 6/40\n",
      "313/313 - 1s - loss: 0.5665 - accuracy: 0.3956 - val_loss: 0.5232 - val_accuracy: 0.0830 - 866ms/epoch - 3ms/step\n",
      "Epoch 7/40\n",
      "313/313 - 1s - loss: 0.5592 - accuracy: 0.3990 - val_loss: 0.5232 - val_accuracy: 0.0830 - 852ms/epoch - 3ms/step\n",
      "Epoch 8/40\n",
      "313/313 - 1s - loss: 0.5612 - accuracy: 0.3970 - val_loss: 0.5232 - val_accuracy: 0.0830 - 840ms/epoch - 3ms/step\n",
      "Epoch 9/40\n",
      "313/313 - 1s - loss: 0.5633 - accuracy: 0.3902 - val_loss: 0.5232 - val_accuracy: 0.0830 - 795ms/epoch - 3ms/step\n",
      "Epoch 10/40\n",
      "313/313 - 1s - loss: 0.5656 - accuracy: 0.3943 - val_loss: 0.5232 - val_accuracy: 0.0830 - 785ms/epoch - 3ms/step\n",
      "Epoch 11/40\n",
      "313/313 - 1s - loss: 0.5575 - accuracy: 0.3945 - val_loss: 0.5232 - val_accuracy: 0.0830 - 802ms/epoch - 3ms/step\n",
      "Epoch 12/40\n",
      "313/313 - 1s - loss: 0.5593 - accuracy: 0.3970 - val_loss: 0.5232 - val_accuracy: 0.0830 - 860ms/epoch - 3ms/step\n",
      "Epoch 13/40\n",
      "313/313 - 1s - loss: 0.5626 - accuracy: 0.3961 - val_loss: 0.5232 - val_accuracy: 0.0830 - 803ms/epoch - 3ms/step\n",
      "Epoch 14/40\n",
      "313/313 - 1s - loss: 0.5642 - accuracy: 0.3953 - val_loss: 0.5232 - val_accuracy: 0.0830 - 826ms/epoch - 3ms/step\n",
      "Epoch 15/40\n",
      "313/313 - 1s - loss: 0.5636 - accuracy: 0.3977 - val_loss: 0.5232 - val_accuracy: 0.0830 - 876ms/epoch - 3ms/step\n",
      "Epoch 16/40\n",
      "313/313 - 1s - loss: 0.5597 - accuracy: 0.3964 - val_loss: 0.5232 - val_accuracy: 0.0830 - 835ms/epoch - 3ms/step\n",
      "Epoch 17/40\n",
      "313/313 - 1s - loss: 0.5655 - accuracy: 0.3934 - val_loss: 0.5232 - val_accuracy: 0.0830 - 819ms/epoch - 3ms/step\n",
      "Epoch 18/40\n",
      "313/313 - 1s - loss: 0.5596 - accuracy: 0.3983 - val_loss: 0.5232 - val_accuracy: 0.0830 - 857ms/epoch - 3ms/step\n",
      "Epoch 19/40\n",
      "313/313 - 1s - loss: 0.5581 - accuracy: 0.4011 - val_loss: 0.5232 - val_accuracy: 0.0830 - 806ms/epoch - 3ms/step\n",
      "Epoch 20/40\n",
      "313/313 - 1s - loss: 0.5650 - accuracy: 0.3957 - val_loss: 0.5232 - val_accuracy: 0.0830 - 756ms/epoch - 2ms/step\n",
      "Epoch 21/40\n",
      "313/313 - 1s - loss: 0.5582 - accuracy: 0.3938 - val_loss: 0.5232 - val_accuracy: 0.0830 - 692ms/epoch - 2ms/step\n",
      "Epoch 22/40\n",
      "313/313 - 1s - loss: 0.5579 - accuracy: 0.3948 - val_loss: 0.5232 - val_accuracy: 0.0830 - 614ms/epoch - 2ms/step\n",
      "Epoch 23/40\n",
      "313/313 - 1s - loss: 0.5621 - accuracy: 0.3916 - val_loss: 0.5232 - val_accuracy: 0.0830 - 648ms/epoch - 2ms/step\n",
      "Epoch 24/40\n",
      "313/313 - 1s - loss: 0.5587 - accuracy: 0.4003 - val_loss: 0.5232 - val_accuracy: 0.0830 - 784ms/epoch - 3ms/step\n",
      "Epoch 25/40\n",
      "313/313 - 1s - loss: 0.5596 - accuracy: 0.3975 - val_loss: 0.5232 - val_accuracy: 0.0830 - 829ms/epoch - 3ms/step\n",
      "Epoch 26/40\n",
      "313/313 - 1s - loss: 0.5610 - accuracy: 0.3963 - val_loss: 0.5232 - val_accuracy: 0.0830 - 859ms/epoch - 3ms/step\n",
      "Epoch 27/40\n",
      "313/313 - 1s - loss: 0.5623 - accuracy: 0.3907 - val_loss: 0.5232 - val_accuracy: 0.0830 - 844ms/epoch - 3ms/step\n",
      "Epoch 28/40\n",
      "313/313 - 1s - loss: 0.5606 - accuracy: 0.3968 - val_loss: 0.5232 - val_accuracy: 0.0830 - 846ms/epoch - 3ms/step\n",
      "Epoch 29/40\n",
      "313/313 - 1s - loss: 0.5602 - accuracy: 0.3925 - val_loss: 0.5232 - val_accuracy: 0.0830 - 815ms/epoch - 3ms/step\n",
      "Epoch 30/40\n",
      "313/313 - 1s - loss: 0.5626 - accuracy: 0.4008 - val_loss: 0.5232 - val_accuracy: 0.0830 - 688ms/epoch - 2ms/step\n",
      "Epoch 31/40\n",
      "313/313 - 1s - loss: 0.5614 - accuracy: 0.3902 - val_loss: 0.5232 - val_accuracy: 0.0830 - 688ms/epoch - 2ms/step\n",
      "Epoch 32/40\n",
      "313/313 - 1s - loss: 0.5571 - accuracy: 0.3993 - val_loss: 0.5232 - val_accuracy: 0.0830 - 775ms/epoch - 2ms/step\n",
      "Epoch 33/40\n",
      "313/313 - 1s - loss: 0.5630 - accuracy: 0.3889 - val_loss: 0.5232 - val_accuracy: 0.0830 - 767ms/epoch - 2ms/step\n",
      "Epoch 34/40\n",
      "313/313 - 1s - loss: 0.5615 - accuracy: 0.3984 - val_loss: 0.5232 - val_accuracy: 0.0830 - 740ms/epoch - 2ms/step\n",
      "Epoch 35/40\n",
      "313/313 - 1s - loss: 0.5618 - accuracy: 0.3952 - val_loss: 0.5232 - val_accuracy: 0.0830 - 786ms/epoch - 3ms/step\n",
      "Epoch 36/40\n",
      "313/313 - 1s - loss: 0.5605 - accuracy: 0.3999 - val_loss: 0.5232 - val_accuracy: 0.0830 - 800ms/epoch - 3ms/step\n",
      "Epoch 37/40\n",
      "313/313 - 1s - loss: 0.5570 - accuracy: 0.4026 - val_loss: 0.5232 - val_accuracy: 0.0830 - 820ms/epoch - 3ms/step\n",
      "Epoch 38/40\n",
      "313/313 - 1s - loss: 0.5604 - accuracy: 0.3914 - val_loss: 0.5232 - val_accuracy: 0.0830 - 796ms/epoch - 3ms/step\n",
      "Epoch 39/40\n",
      "313/313 - 1s - loss: 0.5601 - accuracy: 0.4010 - val_loss: 0.5232 - val_accuracy: 0.0830 - 753ms/epoch - 2ms/step\n",
      "Epoch 40/40\n",
      "313/313 - 1s - loss: 0.5597 - accuracy: 0.3979 - val_loss: 0.5232 - val_accuracy: 0.0830 - 781ms/epoch - 2ms/step\n",
      "157/157 [==============================] - 0s 761us/step - loss: 0.5232 - accuracy: 0.0830\n",
      "Evaluation result on Test Data : Loss = 0.5232440233230591, accuracy = 0.08299999684095383\n"
     ]
    }
   ],
   "source": [
    "test = NN(32, 0.5, 'relu', 'SGD', 'squared_hinge')\n",
    "test_plot = test.fit(X_train, y_train, batch_size= 64, epochs= 40, verbose=2, validation_data=(X_test,y_test))\n",
    "\n",
    "[test_loss, test_acc] = test.evaluate(X_test, y_test)\n",
    "print(\"Evaluation result on Test Data : Loss = {}, accuracy = {}\".format(test_loss, test_acc))"
   ]
  },
  {
   "cell_type": "code",
   "execution_count": 11,
   "metadata": {},
   "outputs": [
    {
     "data": {
      "image/png": "[encoded data removed]",
      "text/plain": [
       "<Figure size 432x288 with 1 Axes>"
      ]
     },
     "metadata": {
      "needs_background": "light"
     },
     "output_type": "display_data"
    },
    {
     "data": {
      "image/png": "[encoded data removed]",
      "text/plain": [
       "<Figure size 432x288 with 1 Axes>"
      ]
     },
     "metadata": {
      "needs_background": "light"
     },
     "output_type": "display_data"
    }
   ],
   "source": [
    "plt.figure(0)\n",
    "plt.plot(test_plot.history['accuracy'], label='training accuracy')\n",
    "plt.plot(test_plot.history['val_accuracy'], label='val accuracy')\n",
    "plt.title('Accuracy')\n",
    "plt.xlabel('epochs')\n",
    "plt.ylabel('accuracy')\n",
    "plt.legend()\n",
    "plt.show()\n",
    "plt.figure(1)\n",
    "plt.plot(test_plot.history['loss'], label='training loss')\n",
    "plt.plot(test_plot.history['val_loss'], label='val loss')\n",
    "plt.title('Loss')\n",
    "plt.xlabel('epochs')\n",
    "plt.ylabel('loss')\n",
    "plt.legend()\n",
    "\n",
    "plt.show()"
   ]
  },
  {
   "cell_type": "markdown",
   "metadata": {},
   "source": [
    "In the graphs we can see as the model is going through more epochs the training and validation are imporoving. We can also see a convergence of the accuracies in the later stages. We see that the loss is getting smaller and converging."
   ]
  },
  {
   "cell_type": "markdown",
   "metadata": {},
   "source": [
    "### Baseline Neural Network Hyperparameter Tuning"
   ]
  },
  {
   "cell_type": "markdown",
   "metadata": {},
   "source": [
    "With the parameters we estimate that might be a great input, we already have an decent accuracy. We will try hyper parameter tunning now to see if we can fine tune the model for better accuracy."
   ]
  },
  {
   "cell_type": "code",
   "execution_count": 12,
   "metadata": {},
   "outputs": [],
   "source": [
    "neurons = [16, 32, 64, 128]\n",
    "batches = [50, 100, 200]\n",
    "dropout = [0.05, 0.1, 0.2, 0.25, 0.5] \n",
    "activation = ['relu', 'tanh', 'sigmoid', 'linear']\n",
    "optimizer = ['SGD', 'RMSprop', 'Adagrad', 'Adadelta', 'Adam', 'Adamax', 'Nadam']\n",
    "loss = ['categorical_crossentropy', 'poisson', 'kl_divergence', 'squared_hinge']\n",
    "epochs = [40]\n",
    "search_space = dict(neurons=neurons, batch_size = batches, drop = dropout, epochs=epochs, activation=activation, optimizer=optimizer, loss=loss)"
   ]
  },
  {
   "cell_type": "markdown",
   "metadata": {},
   "source": [
    "These will be the hyperparameters that we are going to tune our LeNet Neural network: \n",
    "- Batches is the batch size of the data, it is the amount data points in a single partition that is going to be passed through our Neural Network, the higher the value the faster it runs. \n",
    "- Dropout is the dropout rate of the data, it is primarily used to compensate for overfitting, we are going to use 3 dropout rates for hypertuning. \n",
    "- Filter size is the size of our filter for the neural network, in this case we have to run a smaller filter on the latter half of our NN. \n",
    "- Epoch is the number of times we are going to train our neural network. It will always tune in hyperparameter tuning, but 40 epochs would be a solid number.\n",
    "\n",
    "As stated above we decided to tune these four specific hyperparameters: batch size, drop out rate, filter size and epoch. While smaller batch sizes generally give a better result, we did not want to suffer the consequence of a high computation cost. Therefore, we choose these three batch sizes to run with, 32, 64 and 128. The dropout rate allows for better accuracy because it can help with overfitting. For this hyperparameter we chose: 0.2,0.25,0.5, and 0.1. The convolution filters we chose were 5x5, 7x7 and 9x9. Lastly, we decided it was best to leave the epoch size to 40. This is because any larger size would greatly increase the runtime and computation load. "
   ]
  },
  {
   "cell_type": "code",
   "execution_count": 13,
   "metadata": {},
   "outputs": [
    {
     "name": "stderr",
     "output_type": "stream",
     "text": [
      "/tmp/ipykernel_17094/2273775274.py:1: DeprecationWarning: KerasClassifier is deprecated, use Sci-Keras (https://github.com/adriangb/scikeras) instead. See https://www.adriangb.com/scikeras/stable/migration.html for help migrating.\n",
      "  clf_keras = KerasClassifier(build_fn = NN, verbose = 0)\n"
     ]
    }
   ],
   "source": [
    "clf_keras = KerasClassifier(build_fn = NN, verbose = 0)"
   ]
  },
  {
   "cell_type": "markdown",
   "metadata": {},
   "source": [
    "We will wrap our tensorflow function into a Scikit learn wrapper in order to do our cross validation and randomized search."
   ]
  },
  {
   "cell_type": "code",
   "execution_count": 14,
   "metadata": {},
   "outputs": [],
   "source": [
    "rand = RandomizedSearchCV(estimator=clf_keras, param_distributions=search_space, verbose= 3, cv = 5)"
   ]
  },
  {
   "cell_type": "markdown",
   "metadata": {},
   "source": [
    "This cross validation will be a randomized search CV, since it will take a lot of computation and time to perform a grid search on the every possible combination of hyperparameters that we have in our dictionary. Utilizing randomized search CV as the cross validation, will allow us to perform a search on all the hyperparameter combinations to find the best ones while still remaining efficient. With five cross validation folds and ten candidates, we will end with fifty runs for our cross validation. "
   ]
  },
  {
   "cell_type": "code",
   "execution_count": 15,
   "metadata": {
    "scrolled": false
   },
   "outputs": [
    {
     "name": "stdout",
     "output_type": "stream",
     "text": [
      "Fitting 5 folds for each of 10 candidates, totalling 50 fits\n",
      "[CV 1/5] END activation=sigmoid, batch_size=200, drop=0.5, epochs=40, loss=poisson, neurons=64, optimizer=Adadelta;, score=0.259 total time=   8.8s\n",
      "[CV 2/5] END activation=sigmoid, batch_size=200, drop=0.5, epochs=40, loss=poisson, neurons=64, optimizer=Adadelta;, score=0.247 total time=   8.9s\n",
      "[CV 3/5] END activation=sigmoid, batch_size=200, drop=0.5, epochs=40, loss=poisson, neurons=64, optimizer=Adadelta;, score=0.255 total time=   8.5s\n",
      "[CV 4/5] END activation=sigmoid, batch_size=200, drop=0.5, epochs=40, loss=poisson, neurons=64, optimizer=Adadelta;, score=0.259 total time=   9.0s\n",
      "[CV 5/5] END activation=sigmoid, batch_size=200, drop=0.5, epochs=40, loss=poisson, neurons=64, optimizer=Adadelta;, score=0.253 total time=   9.0s\n",
      "[CV 1/5] END activation=sigmoid, batch_size=100, drop=0.5, epochs=40, loss=kl_divergence, neurons=16, optimizer=SGD;, score=0.259 total time=   9.8s\n",
      "[CV 2/5] END activation=sigmoid, batch_size=100, drop=0.5, epochs=40, loss=kl_divergence, neurons=16, optimizer=SGD;, score=0.247 total time=  10.7s\n",
      "[CV 3/5] END activation=sigmoid, batch_size=100, drop=0.5, epochs=40, loss=kl_divergence, neurons=16, optimizer=SGD;, score=0.255 total time=   9.1s\n",
      "[CV 4/5] END activation=sigmoid, batch_size=100, drop=0.5, epochs=40, loss=kl_divergence, neurons=16, optimizer=SGD;, score=0.259 total time=   9.3s\n",
      "[CV 5/5] END activation=sigmoid, batch_size=100, drop=0.5, epochs=40, loss=kl_divergence, neurons=16, optimizer=SGD;, score=0.253 total time=   9.7s\n",
      "[CV 1/5] END activation=tanh, batch_size=50, drop=0.2, epochs=40, loss=kl_divergence, neurons=128, optimizer=SGD;, score=0.259 total time=  28.9s\n",
      "[CV 2/5] END activation=tanh, batch_size=50, drop=0.2, epochs=40, loss=kl_divergence, neurons=128, optimizer=SGD;, score=0.247 total time=  26.7s\n",
      "[CV 3/5] END activation=tanh, batch_size=50, drop=0.2, epochs=40, loss=kl_divergence, neurons=128, optimizer=SGD;, score=0.744 total time=  24.8s\n",
      "[CV 4/5] END activation=tanh, batch_size=50, drop=0.2, epochs=40, loss=kl_divergence, neurons=128, optimizer=SGD;, score=0.259 total time=  29.8s\n",
      "[CV 5/5] END activation=tanh, batch_size=50, drop=0.2, epochs=40, loss=kl_divergence, neurons=128, optimizer=SGD;, score=0.253 total time=  29.2s\n",
      "[CV 1/5] END activation=relu, batch_size=100, drop=0.05, epochs=40, loss=squared_hinge, neurons=128, optimizer=Adagrad;, score=0.741 total time=  18.7s\n",
      "[CV 2/5] END activation=relu, batch_size=100, drop=0.05, epochs=40, loss=squared_hinge, neurons=128, optimizer=Adagrad;, score=0.247 total time=  18.7s\n",
      "[CV 3/5] END activation=relu, batch_size=100, drop=0.05, epochs=40, loss=squared_hinge, neurons=128, optimizer=Adagrad;, score=0.255 total time=  18.2s\n",
      "[CV 4/5] END activation=relu, batch_size=100, drop=0.05, epochs=40, loss=squared_hinge, neurons=128, optimizer=Adagrad;, score=0.259 total time=  18.2s\n",
      "[CV 5/5] END activation=relu, batch_size=100, drop=0.05, epochs=40, loss=squared_hinge, neurons=128, optimizer=Adagrad;, score=0.253 total time=  18.4s\n",
      "[CV 1/5] END activation=linear, batch_size=200, drop=0.25, epochs=40, loss=kl_divergence, neurons=128, optimizer=Nadam;, score=0.259 total time=  11.6s\n",
      "[CV 2/5] END activation=linear, batch_size=200, drop=0.25, epochs=40, loss=kl_divergence, neurons=128, optimizer=Nadam;, score=0.753 total time=  11.5s\n",
      "[CV 3/5] END activation=linear, batch_size=200, drop=0.25, epochs=40, loss=kl_divergence, neurons=128, optimizer=Nadam;, score=0.255 total time=  11.6s\n",
      "[CV 4/5] END activation=linear, batch_size=200, drop=0.25, epochs=40, loss=kl_divergence, neurons=128, optimizer=Nadam;, score=0.259 total time=  12.1s\n",
      "[CV 5/5] END activation=linear, batch_size=200, drop=0.25, epochs=40, loss=kl_divergence, neurons=128, optimizer=Nadam;, score=0.253 total time=  11.6s\n",
      "[CV 1/5] END activation=tanh, batch_size=50, drop=0.2, epochs=40, loss=poisson, neurons=64, optimizer=Adagrad;, score=0.259 total time=  19.7s\n",
      "[CV 2/5] END activation=tanh, batch_size=50, drop=0.2, epochs=40, loss=poisson, neurons=64, optimizer=Adagrad;, score=0.247 total time=  20.6s\n",
      "[CV 3/5] END activation=tanh, batch_size=50, drop=0.2, epochs=40, loss=poisson, neurons=64, optimizer=Adagrad;, score=0.255 total time=  19.5s\n",
      "[CV 4/5] END activation=tanh, batch_size=50, drop=0.2, epochs=40, loss=poisson, neurons=64, optimizer=Adagrad;, score=0.259 total time=  22.7s\n",
      "[CV 5/5] END activation=tanh, batch_size=50, drop=0.2, epochs=40, loss=poisson, neurons=64, optimizer=Adagrad;, score=0.253 total time=  19.7s\n",
      "[CV 1/5] END activation=sigmoid, batch_size=200, drop=0.2, epochs=40, loss=squared_hinge, neurons=16, optimizer=Adamax;, score=0.741 total time=   6.5s\n",
      "[CV 2/5] END activation=sigmoid, batch_size=200, drop=0.2, epochs=40, loss=squared_hinge, neurons=16, optimizer=Adamax;, score=0.753 total time=   6.6s\n",
      "[CV 3/5] END activation=sigmoid, batch_size=200, drop=0.2, epochs=40, loss=squared_hinge, neurons=16, optimizer=Adamax;, score=0.744 total time=   6.5s\n",
      "[CV 4/5] END activation=sigmoid, batch_size=200, drop=0.2, epochs=40, loss=squared_hinge, neurons=16, optimizer=Adamax;, score=0.741 total time=   7.0s\n",
      "[CV 5/5] END activation=sigmoid, batch_size=200, drop=0.2, epochs=40, loss=squared_hinge, neurons=16, optimizer=Adamax;, score=0.747 total time=   6.5s\n",
      "[CV 1/5] END activation=sigmoid, batch_size=50, drop=0.25, epochs=40, loss=kl_divergence, neurons=16, optimizer=Adadelta;, score=0.741 total time=  16.3s\n",
      "[CV 2/5] END activation=sigmoid, batch_size=50, drop=0.25, epochs=40, loss=kl_divergence, neurons=16, optimizer=Adadelta;, score=0.247 total time=  17.4s\n",
      "[CV 3/5] END activation=sigmoid, batch_size=50, drop=0.25, epochs=40, loss=kl_divergence, neurons=16, optimizer=Adadelta;, score=0.255 total time=  16.9s\n",
      "[CV 4/5] END activation=sigmoid, batch_size=50, drop=0.25, epochs=40, loss=kl_divergence, neurons=16, optimizer=Adadelta;, score=0.259 total time=  20.4s\n",
      "[CV 5/5] END activation=sigmoid, batch_size=50, drop=0.25, epochs=40, loss=kl_divergence, neurons=16, optimizer=Adadelta;, score=0.253 total time=  19.3s\n",
      "[CV 1/5] END activation=relu, batch_size=50, drop=0.05, epochs=40, loss=categorical_crossentropy, neurons=16, optimizer=Adamax;, score=0.741 total time=  15.9s\n",
      "[CV 2/5] END activation=relu, batch_size=50, drop=0.05, epochs=40, loss=categorical_crossentropy, neurons=16, optimizer=Adamax;, score=0.753 total time=  17.4s\n",
      "[CV 3/5] END activation=relu, batch_size=50, drop=0.05, epochs=40, loss=categorical_crossentropy, neurons=16, optimizer=Adamax;, score=0.744 total time=  15.1s\n",
      "[CV 4/5] END activation=relu, batch_size=50, drop=0.05, epochs=40, loss=categorical_crossentropy, neurons=16, optimizer=Adamax;, score=0.741 total time=  12.7s\n",
      "[CV 5/5] END activation=relu, batch_size=50, drop=0.05, epochs=40, loss=categorical_crossentropy, neurons=16, optimizer=Adamax;, score=0.747 total time=  12.3s\n",
      "[CV 1/5] END activation=tanh, batch_size=200, drop=0.2, epochs=40, loss=categorical_crossentropy, neurons=16, optimizer=Adadelta;, score=0.741 total time=   5.6s\n",
      "[CV 2/5] END activation=tanh, batch_size=200, drop=0.2, epochs=40, loss=categorical_crossentropy, neurons=16, optimizer=Adadelta;, score=0.753 total time=   6.3s\n",
      "[CV 3/5] END activation=tanh, batch_size=200, drop=0.2, epochs=40, loss=categorical_crossentropy, neurons=16, optimizer=Adadelta;, score=0.744 total time=   5.8s\n",
      "[CV 4/5] END activation=tanh, batch_size=200, drop=0.2, epochs=40, loss=categorical_crossentropy, neurons=16, optimizer=Adadelta;, score=0.741 total time=   6.0s\n",
      "[CV 5/5] END activation=tanh, batch_size=200, drop=0.2, epochs=40, loss=categorical_crossentropy, neurons=16, optimizer=Adadelta;, score=0.253 total time=   6.1s\n"
     ]
    },
    {
     "data": {
      "text/plain": [
       "RandomizedSearchCV(cv=5,\n",
       "                   estimator=<keras.wrappers.scikit_learn.KerasClassifier object at 0x7fe11845b940>,\n",
       "                   param_distributions={'activation': ['relu', 'tanh',\n",
       "                                                       'sigmoid', 'linear'],\n",
       "                                        'batch_size': [50, 100, 200],\n",
       "                                        'drop': [0.05, 0.1, 0.2, 0.25, 0.5],\n",
       "                                        'epochs': [40],\n",
       "                                        'loss': ['categorical_crossentropy',\n",
       "                                                 'poisson', 'kl_divergence',\n",
       "                                                 'squared_hinge'],\n",
       "                                        'neurons': [16, 32, 64, 128],\n",
       "                                        'optimizer': ['SGD', 'RMSprop',\n",
       "                                                      'Adagrad', 'Adadelta',\n",
       "                                                      'Adam', 'Adamax',\n",
       "                                                      'Nadam']},\n",
       "                   verbose=3)"
      ]
     },
     "execution_count": 15,
     "metadata": {},
     "output_type": "execute_result"
    }
   ],
   "source": [
    "rand.fit(X_train,y_train)"
   ]
  },
  {
   "cell_type": "markdown",
   "metadata": {},
   "source": [
    "After tuning the fitting of our randomized search, we came up with the best score below."
   ]
  },
  {
   "cell_type": "code",
   "execution_count": 16,
   "metadata": {},
   "outputs": [
    {
     "data": {
      "text/plain": [
       "0.7453999996185303"
      ]
     },
     "execution_count": 16,
     "metadata": {},
     "output_type": "execute_result"
    }
   ],
   "source": [
    "rand.best_score_"
   ]
  },
  {
   "cell_type": "markdown",
   "metadata": {},
   "source": [
    "These are the parameters that resulted in the best score:"
   ]
  },
  {
   "cell_type": "code",
   "execution_count": 17,
   "metadata": {},
   "outputs": [
    {
     "data": {
      "text/plain": [
       "{'optimizer': 'Adamax',\n",
       " 'neurons': 16,\n",
       " 'loss': 'squared_hinge',\n",
       " 'epochs': 40,\n",
       " 'drop': 0.2,\n",
       " 'batch_size': 200,\n",
       " 'activation': 'sigmoid'}"
      ]
     },
     "execution_count": 17,
     "metadata": {},
     "output_type": "execute_result"
    }
   ],
   "source": [
    "params = rand.best_params_\n",
    "params"
   ]
  },
  {
   "cell_type": "markdown",
   "metadata": {},
   "source": [
    "This will be our hyperparameter tuned CNN model. Some parameters are the same like the 2nd dropout rate the first filtersize. We have a smaller begining dropout rate and have a smaller size 2nd filter."
   ]
  },
  {
   "cell_type": "code",
   "execution_count": 19,
   "metadata": {
    "scrolled": false
   },
   "outputs": [
    {
     "name": "stdout",
     "output_type": "stream",
     "text": [
      "Epoch 1/40\n",
      "100/100 [==============================] - 1s 4ms/step - loss: 0.1677 - accuracy: 0.5222 - val_loss: 0.1227 - val_accuracy: 0.0830\n",
      "Epoch 2/40\n",
      "100/100 [==============================] - 0s 3ms/step - loss: 0.1118 - accuracy: 0.1019 - val_loss: 0.1103 - val_accuracy: 0.0830\n",
      "Epoch 3/40\n",
      "100/100 [==============================] - 0s 3ms/step - loss: 0.1073 - accuracy: 0.0836 - val_loss: 0.1090 - val_accuracy: 0.0830\n",
      "Epoch 4/40\n",
      "100/100 [==============================] - 0s 3ms/step - loss: 0.1069 - accuracy: 0.0834 - val_loss: 0.1088 - val_accuracy: 0.0830\n",
      "Epoch 5/40\n",
      "100/100 [==============================] - 0s 3ms/step - loss: 0.1062 - accuracy: 0.0820 - val_loss: 0.1088 - val_accuracy: 0.0830\n",
      "Epoch 6/40\n",
      "100/100 [==============================] - 0s 3ms/step - loss: 0.1070 - accuracy: 0.0816 - val_loss: 0.1088 - val_accuracy: 0.0830\n",
      "Epoch 7/40\n",
      "100/100 [==============================] - 0s 3ms/step - loss: 0.1062 - accuracy: 0.0811 - val_loss: 0.1088 - val_accuracy: 0.0830\n",
      "Epoch 8/40\n",
      "100/100 [==============================] - 0s 3ms/step - loss: 0.1068 - accuracy: 0.0810 - val_loss: 0.1088 - val_accuracy: 0.0830\n",
      "Epoch 9/40\n",
      "100/100 [==============================] - 0s 3ms/step - loss: 0.1066 - accuracy: 0.0811 - val_loss: 0.1088 - val_accuracy: 0.0830\n",
      "Epoch 10/40\n",
      "100/100 [==============================] - 0s 3ms/step - loss: 0.1060 - accuracy: 0.0806 - val_loss: 0.1088 - val_accuracy: 0.0830\n",
      "Epoch 11/40\n",
      "100/100 [==============================] - 0s 3ms/step - loss: 0.1059 - accuracy: 0.0807 - val_loss: 0.1088 - val_accuracy: 0.0830\n",
      "Epoch 12/40\n",
      "100/100 [==============================] - 0s 3ms/step - loss: 0.1055 - accuracy: 0.0803 - val_loss: 0.1088 - val_accuracy: 0.0830\n",
      "Epoch 13/40\n",
      "100/100 [==============================] - 0s 3ms/step - loss: 0.1055 - accuracy: 0.0803 - val_loss: 0.1088 - val_accuracy: 0.0830\n",
      "Epoch 14/40\n",
      "100/100 [==============================] - 0s 3ms/step - loss: 0.1054 - accuracy: 0.0800 - val_loss: 0.1088 - val_accuracy: 0.0830\n",
      "Epoch 15/40\n",
      "100/100 [==============================] - 0s 3ms/step - loss: 0.1054 - accuracy: 0.0801 - val_loss: 0.1089 - val_accuracy: 0.0830\n",
      "Epoch 16/40\n",
      "100/100 [==============================] - 0s 3ms/step - loss: 0.1052 - accuracy: 0.0800 - val_loss: 0.1088 - val_accuracy: 0.0830\n",
      "Epoch 17/40\n",
      "100/100 [==============================] - 0s 3ms/step - loss: 0.1049 - accuracy: 0.0799 - val_loss: 0.1088 - val_accuracy: 0.0830\n",
      "Epoch 18/40\n",
      "100/100 [==============================] - 0s 3ms/step - loss: 0.1047 - accuracy: 0.0799 - val_loss: 0.1088 - val_accuracy: 0.0830\n",
      "Epoch 19/40\n",
      "100/100 [==============================] - 0s 3ms/step - loss: 0.1044 - accuracy: 0.0799 - val_loss: 0.1088 - val_accuracy: 0.0830\n",
      "Epoch 20/40\n",
      "100/100 [==============================] - 0s 3ms/step - loss: 0.1047 - accuracy: 0.0799 - val_loss: 0.1088 - val_accuracy: 0.0830\n",
      "Epoch 21/40\n",
      "100/100 [==============================] - 0s 3ms/step - loss: 0.1047 - accuracy: 0.0799 - val_loss: 0.1088 - val_accuracy: 0.0830\n",
      "Epoch 22/40\n",
      "100/100 [==============================] - 0s 3ms/step - loss: 0.1041 - accuracy: 0.0799 - val_loss: 0.1088 - val_accuracy: 0.0830\n",
      "Epoch 23/40\n",
      "100/100 [==============================] - 0s 3ms/step - loss: 0.1043 - accuracy: 0.0799 - val_loss: 0.1087 - val_accuracy: 0.0830\n",
      "Epoch 24/40\n",
      "100/100 [==============================] - 0s 3ms/step - loss: 0.1041 - accuracy: 0.0799 - val_loss: 0.1087 - val_accuracy: 0.0830\n",
      "Epoch 25/40\n",
      "100/100 [==============================] - 0s 3ms/step - loss: 0.1043 - accuracy: 0.0799 - val_loss: 0.1088 - val_accuracy: 0.0830\n",
      "Epoch 26/40\n",
      "100/100 [==============================] - 0s 3ms/step - loss: 0.1040 - accuracy: 0.0799 - val_loss: 0.1088 - val_accuracy: 0.0830\n",
      "Epoch 27/40\n",
      "100/100 [==============================] - 0s 2ms/step - loss: 0.1041 - accuracy: 0.0799 - val_loss: 0.1088 - val_accuracy: 0.0830\n",
      "Epoch 28/40\n",
      "100/100 [==============================] - 0s 3ms/step - loss: 0.1040 - accuracy: 0.0799 - val_loss: 0.1088 - val_accuracy: 0.0830\n",
      "Epoch 29/40\n",
      "100/100 [==============================] - 0s 3ms/step - loss: 0.1038 - accuracy: 0.0799 - val_loss: 0.1088 - val_accuracy: 0.0830\n",
      "Epoch 30/40\n",
      "100/100 [==============================] - 0s 3ms/step - loss: 0.1038 - accuracy: 0.0799 - val_loss: 0.1088 - val_accuracy: 0.0830\n",
      "Epoch 31/40\n",
      "100/100 [==============================] - 0s 3ms/step - loss: 0.1040 - accuracy: 0.0799 - val_loss: 0.1088 - val_accuracy: 0.0830\n",
      "Epoch 32/40\n",
      "100/100 [==============================] - 0s 3ms/step - loss: 0.1037 - accuracy: 0.0799 - val_loss: 0.1088 - val_accuracy: 0.0830\n",
      "Epoch 33/40\n",
      "100/100 [==============================] - 0s 3ms/step - loss: 0.1039 - accuracy: 0.0799 - val_loss: 0.1088 - val_accuracy: 0.0830\n",
      "Epoch 34/40\n",
      "100/100 [==============================] - 0s 3ms/step - loss: 0.1036 - accuracy: 0.0799 - val_loss: 0.1088 - val_accuracy: 0.0830\n",
      "Epoch 35/40\n",
      "100/100 [==============================] - 0s 3ms/step - loss: 0.1036 - accuracy: 0.0799 - val_loss: 0.1088 - val_accuracy: 0.0830\n",
      "Epoch 36/40\n",
      "100/100 [==============================] - 0s 3ms/step - loss: 0.1039 - accuracy: 0.0799 - val_loss: 0.1088 - val_accuracy: 0.0830\n",
      "Epoch 37/40\n",
      "100/100 [==============================] - 0s 3ms/step - loss: 0.1036 - accuracy: 0.0799 - val_loss: 0.1088 - val_accuracy: 0.0830\n",
      "Epoch 38/40\n",
      "100/100 [==============================] - 0s 3ms/step - loss: 0.1035 - accuracy: 0.0799 - val_loss: 0.1088 - val_accuracy: 0.0830\n",
      "Epoch 39/40\n",
      "100/100 [==============================] - 0s 3ms/step - loss: 0.1035 - accuracy: 0.0799 - val_loss: 0.1088 - val_accuracy: 0.0830\n",
      "Epoch 40/40\n",
      "100/100 [==============================] - 0s 3ms/step - loss: 0.1035 - accuracy: 0.0799 - val_loss: 0.1088 - val_accuracy: 0.0830\n",
      "157/157 [==============================] - 0s 1ms/step - loss: 0.1088 - accuracy: 0.0830\n",
      "Evaluation result on Test Data : Loss = 0.10876283049583435, accuracy = 0.08299999684095383\n"
     ]
    }
   ],
   "source": [
    "hyper = NN(neurons=16, drop= 0.2, activation='sigmoid', optimizer='Adamax', loss='squared_hinge')\n",
    "hyper_plot = hyper.fit(X_train, y_train, batch_size= 200, epochs= 40, validation_data=(X_test,y_test))\n",
    "# hyper.fit(X_train, y_train, batch_size= 128, epochs= 40, validation_data=(X_test,y_test))\n",
    "\n",
    "[test_loss, test_acc] = hyper.evaluate(X_test, y_test)\n",
    "print(\"Evaluation result on Test Data : Loss = {}, accuracy = {}\".format(test_loss, test_acc))"
   ]
  },
  {
   "cell_type": "code",
   "execution_count": 20,
   "metadata": {},
   "outputs": [
    {
     "data": {
      "text/plain": [
       "<matplotlib.legend.Legend at 0x7fe12ed95f70>"
      ]
     },
     "execution_count": 20,
     "metadata": {},
     "output_type": "execute_result"
    },
    {
     "data": {
      "image/png": "[encoded data removed]",
      "text/plain": [
       "<Figure size 432x288 with 1 Axes>"
      ]
     },
     "metadata": {
      "needs_background": "light"
     },
     "output_type": "display_data"
    }
   ],
   "source": [
    "plt.plot(hyper_plot.history['accuracy'], label='training accuracy')\n",
    "plt.plot(hyper_plot.history['val_accuracy'], label='val accuracy')\n",
    "plt.title('Accuracy')\n",
    "plt.xlabel('epochs')\n",
    "plt.ylabel('accuracy')\n",
    "plt.legend()"
   ]
  },
  {
   "cell_type": "markdown",
   "metadata": {},
   "source": [
    "#### Model-2\n",
    "### Baseline SVM"
   ]
  },
  {
   "cell_type": "code",
   "execution_count": 18,
   "metadata": {},
   "outputs": [
    {
     "ename": "NameError",
     "evalue": "name 'SVR' is not defined",
     "output_type": "error",
     "traceback": [
      "\u001b[0;31m---------------------------------------------------------------------------\u001b[0m",
      "\u001b[0;31mNameError\u001b[0m                                 Traceback (most recent call last)",
      "\u001b[0;32m/tmp/ipykernel_17094/3226544151.py\u001b[0m in \u001b[0;36m<module>\u001b[0;34m\u001b[0m\n\u001b[0;32m----> 1\u001b[0;31m \u001b[0msvr\u001b[0m \u001b[0;34m=\u001b[0m \u001b[0mSVR\u001b[0m\u001b[0;34m(\u001b[0m\u001b[0;34m)\u001b[0m\u001b[0;34m.\u001b[0m\u001b[0mfit\u001b[0m\u001b[0;34m(\u001b[0m\u001b[0mX\u001b[0m\u001b[0;34m,\u001b[0m \u001b[0my\u001b[0m\u001b[0;34m[\u001b[0m\u001b[0;34m'Magnitude'\u001b[0m\u001b[0;34m]\u001b[0m\u001b[0;34m)\u001b[0m\u001b[0;34m\u001b[0m\u001b[0;34m\u001b[0m\u001b[0m\n\u001b[0m\u001b[1;32m      2\u001b[0m \u001b[0;34m\u001b[0m\u001b[0m\n\u001b[1;32m      3\u001b[0m \u001b[0myfit\u001b[0m \u001b[0;34m=\u001b[0m \u001b[0msvr\u001b[0m\u001b[0;34m.\u001b[0m\u001b[0mpredict\u001b[0m\u001b[0;34m(\u001b[0m\u001b[0mX\u001b[0m\u001b[0;34m)\u001b[0m\u001b[0;34m\u001b[0m\u001b[0;34m\u001b[0m\u001b[0m\n\u001b[1;32m      4\u001b[0m \u001b[0;34m\u001b[0m\u001b[0m\n\u001b[1;32m      5\u001b[0m \u001b[0;34m\u001b[0m\u001b[0m\n",
      "\u001b[0;31mNameError\u001b[0m: name 'SVR' is not defined"
     ]
    }
   ],
   "source": [
    "svr = SVR().fit(X, y['Magnitude'])\n",
    "\n",
    "yfit = svr.predict(X)\n",
    "\n",
    "\n",
    "plt.scatter(X, y, s=5, color=\"blue\", label=\"original\")\n",
    "plt.plot(X, yfit, lw=2, color=\"red\", label=\"fitted\")\n",
    "plt.legend()\n",
    "plt.show()"
   ]
  },
  {
   "cell_type": "code",
   "execution_count": null,
   "metadata": {},
   "outputs": [],
   "source": [
    "#Import svm model\n",
    "from sklearn import svm\n",
    "\n",
    "#Create a svm Classifier\n",
    "clf = svm.SVC(kernel='linear') # Linear Kernel\n",
    "\n",
    "#Train the model using the training sets\n",
    "clf.fit(X_train, y_train)\n",
    "\n",
    "\n",
    "#Predict the response for test dataset\n",
    "y_pred = clf.predict(X_test)\n",
    "\n",
    "from sklearn.svm import SVR\n",
    "from sklearn.pipeline import make_pipeline\n",
    "from sklearn.preprocessing import StandardScaler\n",
    "\n",
    "sc_X = StandardScaler()\n",
    "sc_y = StandardScaler()\n",
    "X = sc_X.fit_transform(X)\n",
    "# y = y.to_numpy\n",
    "y = sc_y.fit_transform(y)\n",
    "\n",
    "regr = make_pipeline(StandardScaler(), SVR(C=1.0, epsilon=0.2))\n",
    "regr.fit(X, y)\n",
    "Pipeline(steps=[('standardscaler', StandardScaler()),\n",
    "                ('svr', SVR(epsilon=0.2))])\n",
    "\n",
    "svr = SVR().fit(X, y)\n"
   ]
  },
  {
   "cell_type": "code",
   "execution_count": null,
   "metadata": {},
   "outputs": [],
   "source": [
    "print(\"Precision:\",metrics.precision_score(y_test, y_pred))\n",
    "\n",
    "# Model Recall: what percentage of positive tuples are labelled as such?\n",
    "print(\"Recall:\",metrics.recall_score(y_test, y_pred))"
   ]
  },
  {
   "cell_type": "code",
   "execution_count": null,
   "metadata": {},
   "outputs": [],
   "source": [
    "tuned_parameters = [{'kernel': ['rbf'], 'gamma': [1e-2, 1e-3, 1e-4, 1e-5],\n",
    "                     'C': [0.001, 0.10, 0.1, 10, 25, 50, 100, 1000]},\n",
    "                    {'kernel': ['sigmoid'], 'gamma': [1e-2, 1e-3, 1e-4, 1e-5],\n",
    "                     'C': [0.001, 0.10, 0.1, 10, 25, 50, 100, 1000]},\n",
    "                    {'kernel': ['linear'], 'C': [0.001, 0.10, 0.1, 10, 25, 50, 100, 1000]}\n",
    "                   ]\n",
    "\n",
    "scores = ['precision', 'recall']\n",
    "\n",
    "for score in scores:\n",
    "    print(\"# Tuning hyper-parameters for %s\" % score)\n",
    "    print()\n",
    "\n",
    "    clf = GridSearchCV(SVC(C=1), tuned_parameters, cv=5,\n",
    "                       scoring='%s_macro' % score)\n",
    "    clf.fit(train_t, labels)\n",
    "\n",
    "    print(\"Best parameters set found on development set:\")\n",
    "    print()\n",
    "    print(clf.best_params_)\n",
    "    print()\n",
    "    print(\"Grid scores on development set:\")\n",
    "    print()\n",
    "    means = clf.cv_results_['mean_test_score']\n",
    "    stds = clf.cv_results_['std_test_score']\n",
    "    for mean, std, params in zip(means, stds, clf.cv_results_['params']):\n",
    "        print(\"%0.3f (+/-%0.03f) for %r\"\n",
    "              % (mean, std * 2, params))\n",
    "    print()"
   ]
  },
  {
   "cell_type": "code",
   "execution_count": null,
   "metadata": {},
   "outputs": [],
   "source": []
  },
  {
   "cell_type": "code",
   "execution_count": null,
   "metadata": {},
   "outputs": [],
   "source": []
  },
  {
   "cell_type": "code",
   "execution_count": null,
   "metadata": {},
   "outputs": [],
   "source": [
    "batches = [100, 200, 500]\n",
    "dropout = [0.1, 0.2, 0.25, 0.5] \n",
    "filtersize_1 = [(5,5), (7,7), (9,9)]\n",
    "filtersize_2 = [(3,3), (2,2), (1,1)]\n",
    "search_space = dict(batch_size = batches, drop_1 = dropout, drop_2 = dropout, drop_3 = dropout, k_size1 = filtersize_1, k_size2 = filtersize_2)"
   ]
  },
  {
   "cell_type": "code",
   "execution_count": null,
   "metadata": {},
   "outputs": [],
   "source": [
    "clf_keras = KerasClassifier(build_fn = LeNet, verbose = 0)"
   ]
  },
  {
   "cell_type": "code",
   "execution_count": null,
   "metadata": {},
   "outputs": [],
   "source": [
    "rand = RandomizedSearchCV(estimator=clf_keras, param_distributions=search_space, verbose= 3, cv = 5)"
   ]
  },
  {
   "cell_type": "code",
   "execution_count": null,
   "metadata": {},
   "outputs": [],
   "source": [
    "rand.fit(X_train,y_train)"
   ]
  },
  {
   "cell_type": "code",
   "execution_count": null,
   "metadata": {},
   "outputs": [],
   "source": [
    "rand.best_score_"
   ]
  },
  {
   "cell_type": "code",
   "execution_count": null,
   "metadata": {},
   "outputs": [],
   "source": [
    "params = rand.best_params_\n",
    "params"
   ]
  },
  {
   "cell_type": "code",
   "execution_count": null,
   "metadata": {
    "scrolled": false
   },
   "outputs": [],
   "source": []
  },
  {
   "cell_type": "markdown",
   "metadata": {},
   "source": [
    "From the graph and the verbose of fitting the data into our model, it looks like our hyperparameter tuned model is overfitting to the training data. We can see the intersect of the two accuracy values within our graph. Our training accuracy is higher then the validation acuracy. It is still an accurate model none the less, with a 97.13% validation accuracy. We can try implementing our model with less epochs in order to combat the overfitting of training data.\n",
    "\n",
    "Compared to the base model our hyperparameter tuned model, the hyper-tuned model overfitted with the training data set. The validation accuracy of the base model is 97.745% with a training accuracy of 95.55%, while the hyper tuned model has a validation accuracy of 97.1% with a 98% training accuracy. Overall the base LeNet-5 model would be the best performer out of the two models. We could have done a grid search, to find the best true hyperparameters, but that would be computationally expensive.\n",
    "\n",
    "Having the the model that is overfitted to the training data is still normal. We will still use the hyper-parameters that we have came up. Since, the hyper-tuned model has a decent validation accuracy."
   ]
  },
  {
   "cell_type": "markdown",
   "metadata": {},
   "source": [
    "### LeNet-5 Architecture"
   ]
  },
  {
   "cell_type": "markdown",
   "metadata": {},
   "source": [
    "# Team Contributions\n",
    "- Alexander Huynh: Researching models, Creating model & tuning, Write-up, Slides & Video presentation\n",
    "- Andrina / Xiaoxuan Zhang: Finding dataset, Model implementation & testing, Slides & Video presentation\n",
    "- Nicolas Schaefer: Data collecting & cleaning, Webscraping, Slides & Video presentation\n",
    "- Victorionna Tran: Data cleaning & wrangling, Data visualization, Slides & Video presentation"
   ]
  },
  {
   "cell_type": "markdown",
   "metadata": {},
   "source": [
    "# Footnotes\n",
    "<a name=\"arcosnote\"></a>1.[^](#arcosnote): Evaluation of deep neural networks for traffic sign detection systems. *Neurocomputing 2018*. https://paperswithcode.com/paper/evaluation-of-deep-neural-networks-for<br> \n",
    "<a name=\"kakarlanote\"></a>2.[^](#kakarlanote): Traffic Sign Classification using Residual Networks(ResNet). *Syam Kakarla*. https://towardsdatascience.com/traffic-sign-classification-using-residual-networks-resnet-4b550046ff83<br>\n",
    "<a name=\"pytorchnote\"></a>3.[^](#pytorchnote): How Does PyTorch Support ResNet?. *run.ai*. https://www.run.ai/guides/deep-learning-for-computer-vision/pytorch-resnet#ResNet-Architecture<br>\n",
    "<a name= \"lenote\"></a>4.[^](#lenote): Gradient-Base Learning applied to Document Recognition. *Yann LeCun et. al*. http://vision.stanford.edu/cs598_spring07/papers/Lecun98.pdf"
   ]
  }
 ],
 "metadata": {
  "kernelspec": {
   "display_name": "Python 3 (ipykernel)",
   "language": "python",
   "name": "python3"
  },
  "language_info": {
   "codemirror_mode": {
    "name": "ipython",
    "version": 3
   },
   "file_extension": ".py",
   "mimetype": "text/x-python",
   "name": "python",
   "nbconvert_exporter": "python",
   "pygments_lexer": "ipython3",
   "version": "3.9.5"
  }
 },
 "nbformat": 4,
 "nbformat_minor": 4
}
